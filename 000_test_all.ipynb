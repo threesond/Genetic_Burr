{
 "cells": [
  {
   "cell_type": "code",
   "execution_count": null,
   "metadata": {},
   "outputs": [],
   "source": [
    "str_list = ['aaa','bbb']\n",
    "t1 = 'aaa'\n",
    "t1 in str_list"
   ]
  },
  {
   "cell_type": "code",
   "execution_count": null,
   "metadata": {},
   "outputs": [],
   "source": [
    "from glob import glob\n",
    "from tqdm import tqdm\n",
    "import os\n",
    "import numpy as np\n",
    "import xml.etree.ElementTree as ET\n",
    "from random import choices\n",
    "from utils import crossover, find_if_in_list, find_unique_xmls, mutation, find_size_by_name\n",
    "xml_files = glob('./ori_population/*.xml')\n",
    "xml_list = []\n",
    "for xml_file in tqdm(xml_files):\n",
    "    tree = ET.parse(xml_file)\n",
    "    xml_list.append(tree)"
   ]
  },
  {
   "cell_type": "code",
   "execution_count": null,
   "metadata": {},
   "outputs": [],
   "source": [
    "fitness_list = []\n",
    "for tree in tqdm(xml_list):\n",
    "    tree.write('./temp.xml')\n",
    "    output = os.popen(f'./bin/burrTxt -d ./temp.xml').read()\n",
    "    output = output.split('-------------------------------------------------------')\n",
    "    levels = output[-1].split('\\n')[1:-2]\n",
    "    levels = [x.replace('level: ','') for x in levels]\n",
    "    levels = [sum([int(y) for y in x.split('.')]) for x in levels]\n",
    "    fitness = np.mean(levels)\n",
    "    fitness_list.append(fitness)"
   ]
  },
  {
   "cell_type": "code",
   "execution_count": null,
   "metadata": {},
   "outputs": [],
   "source": [
    "import matplotlib.pyplot as plt\n",
    "fitness_list = np.array(fitness_list)\n",
    "fitness_list = np.nan_to_num(fitness_list, nan=0)\n",
    "plt.plot(fitness_list)"
   ]
  },
  {
   "cell_type": "code",
   "execution_count": null,
   "metadata": {},
   "outputs": [],
   "source": [
    "temprature = 0.8\n",
    "exp_list = np.exp(fitness_list/temprature)\n",
    "prob = exp_list / np.sum(exp_list)\n",
    "plt.plot(prob)"
   ]
  },
  {
   "cell_type": "code",
   "execution_count": null,
   "metadata": {},
   "outputs": [],
   "source": [
    "prob = fitness_list/np.sum(fitness_list)\n",
    "for _ in range(1000):\n",
    "    parent_a = choices(xml_list, weights=prob, k=1)\n",
    "    parent_b = choices(xml_list, weights=prob, k=1)\n",
    "    xml = crossover(parent_a[0], parent_b[0], 'templates/3P_5x5')\n",
    "    xml.write('./temp.xml')\n",
    "    output = os.popen('./bin/burrTxt -d -q ./temp.xml').read()\n",
    "    # if 'units too many for the result shape' not in output:\n",
    "    # # output = output.split(' ')\n",
    "    #     print(output)"
   ]
  },
  {
   "cell_type": "code",
   "execution_count": null,
   "metadata": {},
   "outputs": [],
   "source": [
    "# fitness_mean = np.mean(fitness_list)\n",
    "# fitness_std = np.std(fitness_list)\n",
    "# fitness_list = (fitness_list - fitness_mean) / (fitness_std + 0.00001)\n",
    "temprature = 0.8\n",
    "exp_list = np.exp(fitness_list/temprature)\n",
    "prob = exp_list / np.sum(exp_list)\n",
    "# prob = fitness_list/np.sum(fitness_list)\n",
    "offsrping_number = 100\n",
    "offspring_size = 0\n",
    "offspring_list = []\n",
    "while True:\n",
    "    parent_a = choices(xml_list, weights=prob, k=1)\n",
    "    parent_b = choices(xml_list, weights=prob, k=1)\n",
    "    xml = crossover(parent_a[0], parent_b[0], 'templates/4P_5x5')\n",
    "    xml.write('./temp.xml')\n",
    "    output = os.popen('./bin/burrTxt -d -q ./temp.xml').read()\n",
    "    output = output.split(' ')\n",
    "    # print(output)\n",
    "    if output[3] != '0' and output[3] != 'be' and output[3] != 'many' and output[3] != 'few':\n",
    "        offspring_list.append(xml)\n",
    "        offspring_size += 1\n",
    "        if offspring_size > offsrping_number:\n",
    "            break\n",
    "        print(offspring_size / offsrping_number * 100)\n",
    "for i in tqdm(range(len(offspring_list))):\n",
    "    if np.random.uniform(0, 1) < 0.2:\n",
    "        # 20% mutation\n",
    "        while True:\n",
    "            xml = mutation(offspring_list[i], 'templates/4P_5x5', True)\n",
    "            xml.write('./temp.xml')\n",
    "            output = os.popen('./bin/burrTxt -d -q ./temp.xml').read()\n",
    "            output = output.split(' ')\n",
    "            if output[3] != '0' and output[3] != 'be' and output[3] != 'many' and output[3] != 'few':\n",
    "                print(output)\n",
    "                offspring_list[i] = xml\n",
    "                break\n",
    "fitness_list = []\n",
    "xml_list = offspring_list\n",
    "xml_list = find_unique_xmls(xml_list)\n",
    "for tree in tqdm(xml_list):\n",
    "        tree.write('./temp.xml')\n",
    "        output = os.popen(f'./bin/burrTxt -d ./temp.xml').read()\n",
    "        output = output.split('-------------------------------------------------------')\n",
    "        levels = output[-1].split('\\n')[1:-2]\n",
    "        levels = [x.replace('level: ','') for x in levels]\n",
    "        levels = [sum([int(y) for y in x.split('.')]) for x in levels]\n",
    "        # fitness = max(levels)\n",
    "        fitness = np.mean(levels)\n",
    "        fitness_list.append(fitness)\n",
    "fitness_list = np.array(fitness_list)\n",
    "fitness_list = np.nan_to_num(fitness_list, nan=0)"
   ]
  },
  {
   "cell_type": "code",
   "execution_count": null,
   "metadata": {},
   "outputs": [],
   "source": [
    "plt.plot(fitness_list)"
   ]
  }
 ],
 "metadata": {
  "kernelspec": {
   "display_name": "pytorch",
   "language": "python",
   "name": "python3"
  },
  "language_info": {
   "codemirror_mode": {
    "name": "ipython",
    "version": 3
   },
   "file_extension": ".py",
   "mimetype": "text/x-python",
   "name": "python",
   "nbconvert_exporter": "python",
   "pygments_lexer": "ipython3",
   "version": "3.10.13"
  }
 },
 "nbformat": 4,
 "nbformat_minor": 2
}
