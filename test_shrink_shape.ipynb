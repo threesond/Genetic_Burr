{
 "cells": [
  {
   "cell_type": "code",
   "execution_count": 1,
   "metadata": {},
   "outputs": [],
   "source": [
    "import xml.etree.ElementTree as ET\n",
    "import numpy as np\n",
    "from scipy import ndimage\n",
    "from utils import array_to_string, find_valid_shape_by_string, generate_base_shape, shrink_one_piece, string_to_array, validate_shape, validate_shape_by_string\n",
    "import os\n",
    "import re\n",
    "from random import choice"
   ]
  },
  {
   "cell_type": "code",
   "execution_count": 10,
   "metadata": {},
   "outputs": [
    {
     "name": "stdout",
     "output_type": "stream",
     "text": [
      "[[[1 0 0 0 1]\n",
      "  [1 1 1 1 1]\n",
      "  [1 0 0 0 1]]\n",
      "\n",
      " [[1 0 0 0 1]\n",
      "  [1 0 0 0 1]\n",
      "  [1 0 0 0 1]]\n",
      "\n",
      " [[1 0 0 0 1]\n",
      "  [1 0 0 0 1]\n",
      "  [1 0 0 0 1]]]\n"
     ]
    }
   ],
   "source": [
    "template_string = '#___#######___##___##___##___##___##___##___#'\n",
    "template_shape = string_to_array(template_string, (3,3,5))\n",
    "print(template_shape)"
   ]
  },
  {
   "cell_type": "code",
   "execution_count": 3,
   "metadata": {},
   "outputs": [],
   "source": [
    "input_puzzle_template_file = './templates/3P3'\n",
    "tree = ET.parse(input_puzzle_template_file)\n",
    "root = tree.getroot()"
   ]
  },
  {
   "cell_type": "code",
   "execution_count": 4,
   "metadata": {},
   "outputs": [],
   "source": [
    "for voxel in root.iter('voxel'):\n",
    "    voxel_dict = voxel.attrib\n",
    "    if voxel_dict['name'] != 'Goal':\n",
    "        oz = int(voxel_dict['z'])\n",
    "        oy = int(voxel_dict['y'])\n",
    "        ox = int(voxel_dict['x'])\n",
    "        template_string = voxel.text"
   ]
  },
  {
   "cell_type": "code",
   "execution_count": 7,
   "metadata": {},
   "outputs": [],
   "source": [
    "template_shape = string_to_array(template_string, (oz,oy,ox))\n",
    "ori_shape = template_shape.shape\n",
    "template_shape = template_shape.flatten()\n",
    "target_shape = np.ones_like(template_shape)\n",
    "\n",
    "count = 0\n",
    "while True:\n",
    "    template_shape[target_shape!=1] = 0\n",
    "    pos = np.argwhere(template_shape == 2)\n",
    "    pos = np.array(pos)\n",
    "    pos.shape = (-1)\n",
    "    sampled_pos = choice(list(pos))\n",
    "    target_shape[sampled_pos] = 0\n",
    "    target_shape.shape = ori_shape\n",
    "    validation = validate_shape(target_shape)\n",
    "    target_shape = target_shape.flatten()\n",
    "    if not validation:\n",
    "        target_shape[sampled_pos] = 1\n",
    "        count += 1\n",
    "    if count > 500:\n",
    "        break"
   ]
  },
  {
   "cell_type": "code",
   "execution_count": 8,
   "metadata": {},
   "outputs": [
    {
     "name": "stdout",
     "output_type": "stream",
     "text": [
      "[[[1 0 1 1 0 0 0 0 1]\n",
      "  [1 0 0 1 1 0 0 0 1]\n",
      "  [1 0 0 0 1 0 0 0 1]]\n",
      "\n",
      " [[1 1 1 0 0 0 0 0 1]\n",
      "  [1 0 0 0 0 0 0 0 1]\n",
      "  [1 0 0 0 1 1 1 1 1]]\n",
      "\n",
      " [[1 0 0 0 0 0 0 0 1]\n",
      "  [1 0 0 0 0 0 0 0 1]\n",
      "  [1 0 0 0 0 0 0 0 1]]]\n"
     ]
    }
   ],
   "source": [
    "target_shape.shape = ori_shape\n",
    "print(target_shape)"
   ]
  }
 ],
 "metadata": {
  "kernelspec": {
   "display_name": "pytorch",
   "language": "python",
   "name": "python3"
  },
  "language_info": {
   "codemirror_mode": {
    "name": "ipython",
    "version": 3
   },
   "file_extension": ".py",
   "mimetype": "text/x-python",
   "name": "python",
   "nbconvert_exporter": "python",
   "pygments_lexer": "ipython3",
   "version": "3.8.16"
  }
 },
 "nbformat": 4,
 "nbformat_minor": 2
}
